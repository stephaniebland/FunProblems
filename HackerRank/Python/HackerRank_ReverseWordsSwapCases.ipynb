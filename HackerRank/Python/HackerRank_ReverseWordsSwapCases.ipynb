{
 "cells": [
  {
   "cell_type": "code",
   "execution_count": 1,
   "metadata": {},
   "outputs": [],
   "source": [
    "def reverse_words_order_and_swap_cases(sentence):\n",
    "    sol = \"\"\n",
    "    for i in sentence.split():\n",
    "        word = \"\"\n",
    "        for j in i:\n",
    "            if j.isupper() == True:\n",
    "                word = word + j.lower()\n",
    "            else:\n",
    "                word = word + j.upper()\n",
    "        sol = word + \" \" + sol\n",
    "    print (sol)"
   ]
  },
  {
   "cell_type": "code",
   "execution_count": 2,
   "metadata": {},
   "outputs": [
    {
     "name": "stdout",
     "output_type": "stream",
     "text": [
      "Coding IS Awesome \n"
     ]
    }
   ],
   "source": [
    "reverse_words_order_and_swap_cases(\"aWESOME is cODING\")"
   ]
  },
  {
   "cell_type": "code",
   "execution_count": null,
   "metadata": {},
   "outputs": [],
   "source": []
  }
 ],
 "metadata": {
  "kernelspec": {
   "display_name": "Python 3",
   "language": "python",
   "name": "python3"
  },
  "language_info": {
   "codemirror_mode": {
    "name": "ipython",
    "version": 3
   },
   "file_extension": ".py",
   "mimetype": "text/x-python",
   "name": "python",
   "nbconvert_exporter": "python",
   "pygments_lexer": "ipython3",
   "version": "3.8.5"
  }
 },
 "nbformat": 4,
 "nbformat_minor": 4
}
