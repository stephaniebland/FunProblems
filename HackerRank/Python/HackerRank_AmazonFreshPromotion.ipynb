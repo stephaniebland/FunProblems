{
 "cells": [
  {
   "cell_type": "markdown",
   "metadata": {},
   "source": [
    "# Hackerrank Amazon Fresh Promotion\n",
    "Amazon is running a promotion in which customers receive prizes for purchasing a secret combination of fruits. The combination will change each day, and the team running the promotion wants to use a code list to make it easy to change the combination. The code list contains groups of fruits. Both the order of the groups within the code list and the order of the fruits within the groups matter. However, between the groups of fruits, any number, and type of fruit is allowable. The term \"anything\" is used to allow for any type of fruit to appear in that location within the group.\n",
    "\n",
    "Consider the following secret code list: [[apple, apple], [banana, anything, banana]]\n",
    "Based on the above secret code list, a customer who made either of the following purchases would win the prize:\n",
    "orange, apple, apple, banana, orange, banana\n",
    "apple, apple, orange, orange, banana, apple, banana, banana\n",
    "\n",
    "Write an algorithm to output 1 if the customer is a winner else output 0.\n",
    "\n",
    "Input\n",
    "The input to the function/method consists of two arguments:\n",
    "codeList, a list of lists of strings representing the order and grouping of specific fruits that must be purchased in order to win the prize for the day.\n",
    "shoppingCart, a list of strings representing the order in which a customer purchases fruit.\n",
    "\n",
    "Output\n",
    "Return an integer 1 if the customer is a winner else return 0.\n",
    "\n",
    "Note\n",
    "'anything' in the codeList represents that any fruit can be ordered in place of 'anything' in the group. 'anything' has to be something, it cannot be \"nothing.\"\n",
    "'anything' must represent one and only one fruit.\n",
    "If secret code list is empty then it is assumed that the customer is a winner.\n",
    "\n",
    "Example 1:\n",
    "\n",
    "Input: codeList = [[apple, apple], [banana, anything, banana]] shoppingCart = [orange, apple, apple, banana, orange, banana]\n",
    "Output: 1\n",
    "Explanation:\n",
    "codeList contains two groups - [apple, apple] and [banana, anything, banana].\n",
    "The second group contains 'anything' so any fruit can be ordered in place of 'anything' in the shoppingCart. The customer is a winner as the customer has added fruits in the order of fruits in the groups and the order of groups in the codeList is also maintained in the shoppingCart.\n",
    "\n",
    "Example 2:\n",
    "\n",
    "Input: codeList = [[apple, apple], [banana, anything, banana]]\n",
    "shoppingCart = [banana, orange, banana, apple, apple]\n",
    "Output: 0\n",
    "Explanation:\n",
    "The customer is not a winner as the customer has added the fruits in order of groups but group [banana, orange, banana] is not following the group [apple, apple] in the codeList.\n",
    "\n",
    "Example 3:\n",
    "\n",
    "Input: codeList = [[apple, apple], [banana, anything, banana]] shoppingCart = [apple, banana, apple, banana, orange, banana]\n",
    "Output: 0\n",
    "Explanation:\n",
    "The customer is not a winner as the customer has added the fruits in an order which is not following the order of fruit names in the first group.\n",
    "\n",
    "Example 4:\n",
    "\n",
    "Input: codeList = [[apple, apple], [apple, apple, banana]] shoppingCart = [apple, apple, apple, banana]\n",
    "Output: 0\n",
    "Explanation:\n",
    "The customer is not a winner as the first 2 fruits form group 1, all three fruits would form group 2, but can't because it would contain all fruits of group 1."
   ]
  },
  {
   "cell_type": "code",
   "execution_count": 1,
   "metadata": {},
   "outputs": [],
   "source": [
    "class Solution:\n",
    "    def freshPromotion(self, codeList, shoppingCart):\n",
    "        pointer = 0\n",
    "        cart_size = len(shoppingCart)\n",
    "        for lst in codeList:\n",
    "            lst_len = len(lst)\n",
    "            # Find the index of fruit in the list, so everything not equal to \"anything\"\n",
    "            index_of_fruit=[]\n",
    "            for i in range(lst_len):\n",
    "                if lst[i] != \"anything\":\n",
    "                    index_of_fruit.append(i)\n",
    "            fruit_in_lst = [lst[j] for j in index_of_fruit]\n",
    "            for j in range(pointer, cart_size + 1 - lst_len):\n",
    "                cart_segment = shoppingCart[j:j + lst_len]\n",
    "                cart_relev_segment = [cart_segment[j] for j in index_of_fruit]\n",
    "                if cart_relev_segment == fruit_in_lst:\n",
    "                    # update pointer\n",
    "                    pointer = j + lst_len\n",
    "                    break\n",
    "            # If you get to the end of the shopping cart and it still doesn't match, you lost\n",
    "            if cart_relev_segment != fruit_in_lst:\n",
    "                return 0\n",
    "        return 1"
   ]
  },
  {
   "cell_type": "code",
   "execution_count": 2,
   "metadata": {},
   "outputs": [
    {
     "data": {
      "text/plain": [
       "1"
      ]
     },
     "execution_count": 2,
     "metadata": {},
     "output_type": "execute_result"
    }
   ],
   "source": [
    "codeList = [[\"apple\", \"apple\"], [\"banana\", \"anything\", \"banana\"]]\n",
    "# shoppingCart = [\"banana\", \"orange\", \"banana\", \"apple\", \"apple\"]\n",
    "shoppingCart = [\"orange\", \"apple\", \"apple\", \"banana\", \"orange\", \"banana\"]\n",
    "Solution().freshPromotion(codeList, shoppingCart)"
   ]
  },
  {
   "cell_type": "code",
   "execution_count": null,
   "metadata": {},
   "outputs": [],
   "source": []
  }
 ],
 "metadata": {
  "kernelspec": {
   "display_name": "Python 3",
   "language": "python",
   "name": "python3"
  },
  "language_info": {
   "codemirror_mode": {
    "name": "ipython",
    "version": 3
   },
   "file_extension": ".py",
   "mimetype": "text/x-python",
   "name": "python",
   "nbconvert_exporter": "python",
   "pygments_lexer": "ipython3",
   "version": "3.8.5"
  }
 },
 "nbformat": 4,
 "nbformat_minor": 4
}
