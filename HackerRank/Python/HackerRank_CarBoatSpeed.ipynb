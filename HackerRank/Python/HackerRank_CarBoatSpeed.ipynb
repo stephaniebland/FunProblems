{
 "cells": [
  {
   "cell_type": "code",
   "execution_count": 1,
   "metadata": {},
   "outputs": [],
   "source": [
    "#!/bin/python3\n",
    "\n",
    "\n",
    "\n",
    "class Car():\n",
    "    def __init__(self,max_speed,speed_unit):\n",
    "        self.max_speed=max_speed\n",
    "        self.speed_unit=speed_unit\n",
    "    \n",
    "    def __str__(self):\n",
    "        return \"Car with the maximum speed of \" + str(self.max_speed) + \" \" + self.speed_unit\n",
    "\n",
    "\n",
    "class Boat():\n",
    "    def __init__(self,max_speed):\n",
    "        self.max_speed=max_speed\n",
    "        \n",
    "    def __str__(self):\n",
    "        return \"Boat with the maximum speed of \" + str(max_speed) + \" knots\"\n",
    "\n",
    "\n",
    "    \n"
   ]
  },
  {
   "cell_type": "code",
   "execution_count": null,
   "metadata": {},
   "outputs": [],
   "source": []
  }
 ],
 "metadata": {
  "kernelspec": {
   "display_name": "Python 3",
   "language": "python",
   "name": "python3"
  },
  "language_info": {
   "codemirror_mode": {
    "name": "ipython",
    "version": 3
   },
   "file_extension": ".py",
   "mimetype": "text/x-python",
   "name": "python",
   "nbconvert_exporter": "python",
   "pygments_lexer": "ipython3",
   "version": "3.8.5"
  }
 },
 "nbformat": 4,
 "nbformat_minor": 4
}
