{
 "cells": [
  {
   "cell_type": "markdown",
   "metadata": {},
   "source": [
    "# Convert string to number\n",
    "Convert a string that describes a number into a integer\n",
    "\n",
    "Input:  string   ex: “THREE HUNDRED FOURTEEN”\n",
    "\n",
    "Output: num    ex: 314"
   ]
  },
  {
   "cell_type": "code",
   "execution_count": 1,
   "metadata": {},
   "outputs": [],
   "source": [
    "# Define Dictionaries:\n",
    "str2d = {\"\": 0,\n",
    "         \"one\": 1, \n",
    "         \"two\": 2, \n",
    "         \"three\": 3, \n",
    "         \"four\": 4, \n",
    "         \"five\": 5, \n",
    "         \"six\": 6, \n",
    "         \"seven\": 7, \n",
    "         \"eight\": 8, \n",
    "         \"nine\": 9}\n",
    "\n",
    "str2d2 = {\"twenty\": 2, \n",
    "          \"thirty\": 3, \n",
    "          \"fourty\": 4, \n",
    "          \"fifty\": 5, \n",
    "          \"sixty\": 6, \n",
    "          \"seventy\": 7, \n",
    "          \"eighty\": 8, \n",
    "          \"ninety\": 9}\n",
    "\n",
    "teens = {\"ten\": 10, \n",
    "         \"eleven\": 11, \n",
    "         \"twelve\": 12, \n",
    "         \"thirteen\": 13, \n",
    "         \"fourteen\": 14, \n",
    "         \"fifteen\": 15, \n",
    "         \"sixteen\": 16, \n",
    "         \"seventeen\": 17, \n",
    "         \"eighteen\": 18, \n",
    "         \"nineteen\": 19}\n",
    "\n",
    "scale = {\"\": 0, \n",
    "         \"thousand\": 1, \n",
    "         \"million\": 2, \n",
    "         \"billion\": 3, \n",
    "         \"trillion\": 4, \n",
    "         \"quadrillion\": 5, \n",
    "         \"quintillion\": 6, \n",
    "         \"sextillion\": 7, \n",
    "         \"septillion\": 8, \n",
    "         \"octillion\": 9, \n",
    "         \"Nonillion\": 10, \n",
    "         \"Decillion\": 11}\n",
    "\n",
    "all_descriptors = list(str2d.keys())\n",
    "all_descriptors.extend(list(str2d2.keys()))\n",
    "all_descriptors.extend(list(teens.keys()))\n",
    "all_descriptors.extend(list(scale.keys()))\n",
    "all_descriptors = set(all_descriptors)"
   ]
  },
  {
   "cell_type": "code",
   "execution_count": 2,
   "metadata": {},
   "outputs": [],
   "source": [
    "class Solution:\n",
    "    def decimal_input(self, s: str) -> int:\n",
    "        s = s.lower().split()\n",
    "        if \"point\" not in s:\n",
    "            return self.str2num(s)\n",
    "        else:\n",
    "            total = 0\n",
    "            point_val = s[-1]\n",
    "            point_index = 5\n",
    "            if point_val == \"hundred\":\n",
    "                return self.str2num(s[:point_index]) * 100 + self.str2num(s[point_index:])\n",
    "            elif point_val in scale:\n",
    "                return self.str2num(s[:point_index]) * 10**(3*scale[point_val]) + self.str2num(s[point_index:])\n",
    "            else: # Assume point is at 0\n",
    "                return self.str2num(s[:point_index]) * 10**(3*scale[point_val]) + self.str2num(s[point_index:])\n",
    "\n",
    "        \n",
    "    def str2num(self, s: list) -> int:\n",
    "        sol = 0\n",
    "        len_str = len(s)\n",
    "        up_to_999 = 0\n",
    "        for i in range(len_str):\n",
    "            subtot = 0\n",
    "            word = s[i]            \n",
    "            if word in str2d:\n",
    "                subtot = str2d[word]\n",
    "                if (i+1) < len_str and (s[i+1] == \"hundred\" or s[i+1] in str2d2 or s[i+1] in teens):\n",
    "                    subtot = subtot * 100\n",
    "                    i += 1\n",
    "            elif word in str2d2:\n",
    "                subtot = str2d2[word] * 10\n",
    "                if (i+1) < len_str and (s[i+1] == \"hundred\" or s[i+1] in teens or s[i+1] in str2d2) or ((i+2) < len_str and s[i+2] == \"hundred\"):\n",
    "                    subtot *= 100\n",
    "            elif word in teens:\n",
    "                subtot = teens[word]\n",
    "                if (i+1) < len_str and (s[i+1] == \"hundred\" or s[i+1] in teens or s[i+1] in str2d2):\n",
    "                    subtot *= 100\n",
    "            if word in scale:\n",
    "                sol += up_to_999 * 10**(3*scale[word])\n",
    "                up_to_999 = 0\n",
    "            up_to_999 += subtot\n",
    "        sol += up_to_999\n",
    "#         if word == \"dollars\":\n",
    "#             return \"$\" + str(sol) + \" dollars\"\n",
    "#         if word == \"cents\":\n",
    "#             ans = \"\"\n",
    "#             if sol >= 100:\n",
    "#                 ans = \"$\" + str(sol // 100) + \" dollars\"\n",
    "#             if sol // 100 > 0:\n",
    "#                 ans = ans + \" ¢\" + str(sol % 100) + \" cents\"\n",
    "#             return ans\n",
    "#         if not word in all_descriptors:\n",
    "#             sol = str(sol) + \" \" + word\n",
    "        return sol"
   ]
  },
  {
   "cell_type": "code",
   "execution_count": 3,
   "metadata": {},
   "outputs": [
    {
     "data": {
      "text/plain": [
       "230"
      ]
     },
     "execution_count": 3,
     "metadata": {},
     "output_type": "execute_result"
    }
   ],
   "source": [
    "Solution().decimal_input('two thirty')# percent')"
   ]
  },
  {
   "cell_type": "code",
   "execution_count": 4,
   "metadata": {},
   "outputs": [
    {
     "data": {
      "text/plain": [
       "5000000000000000000"
      ]
     },
     "execution_count": 4,
     "metadata": {},
     "output_type": "execute_result"
    }
   ],
   "source": [
    "Solution().decimal_input('one point four billion')"
   ]
  },
  {
   "cell_type": "code",
   "execution_count": 5,
   "metadata": {},
   "outputs": [
    {
     "data": {
      "text/plain": [
       "2300"
      ]
     },
     "execution_count": 5,
     "metadata": {},
     "output_type": "execute_result"
    }
   ],
   "source": [
    "Solution().decimal_input('twenty three hundred')"
   ]
  },
  {
   "cell_type": "code",
   "execution_count": 6,
   "metadata": {},
   "outputs": [
    {
     "data": {
      "text/plain": [
       "1984"
      ]
     },
     "execution_count": 6,
     "metadata": {},
     "output_type": "execute_result"
    }
   ],
   "source": [
    "Solution().decimal_input('nineteen eighty four')"
   ]
  },
  {
   "cell_type": "code",
   "execution_count": 7,
   "metadata": {},
   "outputs": [
    {
     "data": {
      "text/plain": [
       "2020"
      ]
     },
     "execution_count": 7,
     "metadata": {},
     "output_type": "execute_result"
    }
   ],
   "source": [
    "Solution().decimal_input('twenty twenty')"
   ]
  },
  {
   "cell_type": "code",
   "execution_count": 8,
   "metadata": {},
   "outputs": [
    {
     "data": {
      "text/plain": [
       "1100"
      ]
     },
     "execution_count": 8,
     "metadata": {},
     "output_type": "execute_result"
    }
   ],
   "source": [
    "Solution().decimal_input('eleven hundred')"
   ]
  },
  {
   "cell_type": "code",
   "execution_count": 9,
   "metadata": {},
   "outputs": [
    {
     "data": {
      "text/plain": [
       "5611"
      ]
     },
     "execution_count": 9,
     "metadata": {},
     "output_type": "execute_result"
    }
   ],
   "source": [
    "Solution().decimal_input('five thousand six hundred eleven')"
   ]
  },
  {
   "cell_type": "code",
   "execution_count": 10,
   "metadata": {},
   "outputs": [
    {
     "data": {
      "text/plain": [
       "1925"
      ]
     },
     "execution_count": 10,
     "metadata": {},
     "output_type": "execute_result"
    }
   ],
   "source": [
    "Solution().decimal_input('one thousand nine hundred twenty five')"
   ]
  },
  {
   "cell_type": "code",
   "execution_count": 11,
   "metadata": {},
   "outputs": [
    {
     "data": {
      "text/plain": [
       "2132139"
      ]
     },
     "execution_count": 11,
     "metadata": {},
     "output_type": "execute_result"
    }
   ],
   "source": [
    "Solution().decimal_input(\"two million one hundred thirty two thousand one hundred thirty nine\")"
   ]
  },
  {
   "cell_type": "code",
   "execution_count": 12,
   "metadata": {},
   "outputs": [
    {
     "data": {
      "text/plain": [
       "1000000000014"
      ]
     },
     "execution_count": 12,
     "metadata": {},
     "output_type": "execute_result"
    }
   ],
   "source": [
    "Solution().decimal_input('one trillion fourteen')"
   ]
  },
  {
   "cell_type": "code",
   "execution_count": null,
   "metadata": {},
   "outputs": [],
   "source": []
  }
 ],
 "metadata": {
  "kernelspec": {
   "display_name": "Python 3",
   "language": "python",
   "name": "python3"
  },
  "language_info": {
   "codemirror_mode": {
    "name": "ipython",
    "version": 3
   },
   "file_extension": ".py",
   "mimetype": "text/x-python",
   "name": "python",
   "nbconvert_exporter": "python",
   "pygments_lexer": "ipython3",
   "version": "3.8.5"
  }
 },
 "nbformat": 4,
 "nbformat_minor": 4
}
