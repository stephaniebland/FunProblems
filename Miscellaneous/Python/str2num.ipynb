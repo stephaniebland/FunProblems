{
 "cells": [
  {
   "cell_type": "markdown",
   "metadata": {},
   "source": [
    "# Convert string to number\n",
    "Convert a string that describes a number into a integer\n",
    "\n",
    "Input:  string   ex: “THREE HUNDRED FOURTEEN”\n",
    "\n",
    "Output: num    ex: 314"
   ]
  },
  {
   "cell_type": "code",
   "execution_count": 1,
   "metadata": {},
   "outputs": [],
   "source": [
    "# Define Dictionaries:\n",
    "str2d = {\"\": 0,\n",
    "         \"one\": 1, \n",
    "         \"two\": 2, \n",
    "         \"three\": 3, \n",
    "         \"four\": 4, \n",
    "         \"five\": 5, \n",
    "         \"six\": 6, \n",
    "         \"seven\": 7, \n",
    "         \"eight\": 8, \n",
    "         \"nine\": 9}\n",
    "\n",
    "str2d2 = {\"twenty\": 2, \n",
    "          \"thirty\": 3, \n",
    "          \"fourty\": 4, \n",
    "          \"fifty\": 5, \n",
    "          \"sixty\": 6, \n",
    "          \"seventy\": 7, \n",
    "          \"eighty\": 8, \n",
    "          \"ninety\": 9}\n",
    "\n",
    "teens = {\"ten\": 10, \n",
    "         \"eleven\": 11, \n",
    "         \"twelve\": 12, \n",
    "         \"thirteen\": 13, \n",
    "         \"fourteen\": 14, \n",
    "         \"fifteen\": 15, \n",
    "         \"sixteen\": 16, \n",
    "         \"seventeen\": 17, \n",
    "         \"eighteen\": 18, \n",
    "         \"nineteen\": 19}\n",
    "\n",
    "scale = {\"\": 0, \n",
    "         \"thousand\": 1, \n",
    "         \"million\": 2, \n",
    "         \"billion\": 3, \n",
    "         \"trillion\": 4, \n",
    "         \"quadrillion\": 5, \n",
    "         \"quintillion\": 6, \n",
    "         \"sextillion\": 7, \n",
    "         \"septillion\": 8, \n",
    "         \"octillion\": 9, \n",
    "         \"Nonillion\": 10, \n",
    "         \"Decillion\": 11}"
   ]
  },
  {
   "cell_type": "code",
   "execution_count": 27,
   "metadata": {},
   "outputs": [],
   "source": [
    "class Solution:\n",
    "    def str2num(self, s: str) -> int:\n",
    "        sol = 0\n",
    "        s = s.lower().split()\n",
    "        len_str = len(s)\n",
    "        up_to_999 = 0\n",
    "        for i in range(len_str):\n",
    "            subtot = 0\n",
    "            word = s[i]            \n",
    "            if word in str2d:\n",
    "                subtot = str2d[word]\n",
    "                if (i+1) < len_str and s[i+1] == \"hundred\":\n",
    "                    subtot = subtot * 100\n",
    "                    i += 1\n",
    "            elif word in str2d2:\n",
    "                subtot = str2d2[word] * 10\n",
    "            elif word in teens:\n",
    "                subtot = teens[word]\n",
    "            if word in scale:\n",
    "                sol += up_to_999 * 10**(3*scale[word])\n",
    "                up_to_999 = 0\n",
    "            up_to_999 += subtot\n",
    "        sol += up_to_999\n",
    "        if word == \"dollars\":\n",
    "            sol = \"$\" + str(sol) + \" dollars\"\n",
    "        if word == \"cents\":\n",
    "            ans = \"\"\n",
    "            if sol >= 100:\n",
    "                ans = \"$\" + str(sol // 100) + \" dollars\"\n",
    "            if sol // 100 > 0:\n",
    "                ans = ans + \" ¢\" + str(sol % 100) + \" cents\"\n",
    "            sol = ans\n",
    "        return sol"
   ]
  },
  {
   "cell_type": "code",
   "execution_count": 28,
   "metadata": {},
   "outputs": [
    {
     "data": {
      "text/plain": [
       "'$3 dollars ¢20 cents'"
      ]
     },
     "execution_count": 28,
     "metadata": {},
     "output_type": "execute_result"
    }
   ],
   "source": [
    "Solution().str2num('twenty three hundred cents')"
   ]
  },
  {
   "cell_type": "code",
   "execution_count": 3,
   "metadata": {},
   "outputs": [
    {
     "data": {
      "text/plain": [
       "5611"
      ]
     },
     "execution_count": 3,
     "metadata": {},
     "output_type": "execute_result"
    }
   ],
   "source": [
    "Solution().str2num('five thousand six hundred eleven')"
   ]
  },
  {
   "cell_type": "code",
   "execution_count": 4,
   "metadata": {},
   "outputs": [
    {
     "data": {
      "text/plain": [
       "1925"
      ]
     },
     "execution_count": 4,
     "metadata": {},
     "output_type": "execute_result"
    }
   ],
   "source": [
    "Solution().str2num('one thousand nine hundred twenty five')"
   ]
  },
  {
   "cell_type": "code",
   "execution_count": 5,
   "metadata": {},
   "outputs": [
    {
     "data": {
      "text/plain": [
       "2132139"
      ]
     },
     "execution_count": 5,
     "metadata": {},
     "output_type": "execute_result"
    }
   ],
   "source": [
    "Solution().str2num(\"two million one hundred thirty two thousand one hundred thirty nine\")"
   ]
  },
  {
   "cell_type": "code",
   "execution_count": 6,
   "metadata": {},
   "outputs": [
    {
     "data": {
      "text/plain": [
       "1000000000014"
      ]
     },
     "execution_count": 6,
     "metadata": {},
     "output_type": "execute_result"
    }
   ],
   "source": [
    "Solution().str2num('one trillion fourteen')"
   ]
  },
  {
   "cell_type": "code",
   "execution_count": null,
   "metadata": {},
   "outputs": [],
   "source": []
  }
 ],
 "metadata": {
  "kernelspec": {
   "display_name": "Python 3",
   "language": "python",
   "name": "python3"
  },
  "language_info": {
   "codemirror_mode": {
    "name": "ipython",
    "version": 3
   },
   "file_extension": ".py",
   "mimetype": "text/x-python",
   "name": "python",
   "nbconvert_exporter": "python",
   "pygments_lexer": "ipython3",
   "version": "3.8.5"
  }
 },
 "nbformat": 4,
 "nbformat_minor": 4
}
