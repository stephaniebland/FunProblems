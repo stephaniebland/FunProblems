{
 "cells": [
  {
   "cell_type": "markdown",
   "metadata": {},
   "source": [
    "# Convert numbers to string\n",
    "Input:  int, 3 digits, >=0, < 1000\n",
    "Output: 314 -> “THREE HUNDRED FOURTEEN”\n",
    "        101 -> “ONE HUNDRED ONE”"
   ]
  },
  {
   "cell_type": "code",
   "execution_count": 1,
   "metadata": {},
   "outputs": [],
   "source": [
    "# Define Dictionaries:\n",
    "d2str = {0: \"\",\n",
    "         1: \"one\", \n",
    "         2: \"two\", \n",
    "         3: \"three\", \n",
    "         4: \"four\", \n",
    "         5: \"five\", \n",
    "         6: \"six\", \n",
    "         7: \"seven\", \n",
    "         8: \"eight\", \n",
    "         9: \"nine\"}\n",
    "\n",
    "d2str2 = {2: \"twenty\", \n",
    "          3: \"thirty\", \n",
    "          4: \"fourty\", \n",
    "          5: \"fifty\", \n",
    "          6: \"sixty\", \n",
    "          7: \"seventy\", \n",
    "          8: \"eighty\", \n",
    "          9: \"ninety\"}\n",
    "\n",
    "teens = {10: \"ten\", \n",
    "         11: \"eleven\", \n",
    "         12: \"twelve\", \n",
    "         13: \"thirteen\", \n",
    "         14: \"fourteen\", \n",
    "         15: \"fifteen\", \n",
    "         16: \"sixteen\", \n",
    "         17: \"seventeen\", \n",
    "         18: \"eighteen\", \n",
    "         19: \"nineteen\"}\n",
    "\n",
    "scale = {0: \"\", \n",
    "         1: \"thousand\", \n",
    "         2: \"million\", \n",
    "         3: \"billion\", \n",
    "         4: \"trillion\", \n",
    "         5: \"quadrillion\", \n",
    "         6: \"quintillion\", \n",
    "         7: \"sextillion\", \n",
    "         8: \"septillion\", \n",
    "         9: \"octillion\", \n",
    "         10: \"Nonillion\", \n",
    "         11: \"Decillion\"}"
   ]
  },
  {
   "cell_type": "code",
   "execution_count": 2,
   "metadata": {},
   "outputs": [],
   "source": [
    "class Solution:\n",
    "    def num2str(self, n: int) -> str:\n",
    "        if n == 0:\n",
    "            return \"zero\"\n",
    "        sol = []\n",
    "        level = len(str(n)) - 1\n",
    "        scale_describe = False\n",
    "        while level >= 0:\n",
    "            val = n // (10**level)\n",
    "            print(\"level\",level)\n",
    "            print(\"val\",val)\n",
    "            # For the last digit you want to return the solution\n",
    "            if level == 0:\n",
    "                sol.append(d2str[val])\n",
    "                break\n",
    "            \n",
    "            # Otherwise, get the number with digit description\n",
    "            if level % 3 == 2 and val > 0:\n",
    "                sol.extend([d2str[val], \"hundred\"])\n",
    "                scale_describe = True\n",
    "            elif level % 3 == 1 and val > 0:\n",
    "                # Check if it's a teen number\n",
    "                if val == 1:\n",
    "                    # Skip one digit\n",
    "                    level -= 1\n",
    "                    val = n // (10**(level))\n",
    "                    # If it's the last teen number return early\n",
    "                    if level == 0:\n",
    "                        sol.append(teens[val])\n",
    "                        break\n",
    "                    # Otherwise return the teen number and the scale\n",
    "                    sol.extend([teens[val], scale[int (level/3)]])\n",
    "                else:\n",
    "                    sol.append(d2str2[val])\n",
    "                scale_describe = True\n",
    "            elif val > 0:\n",
    "                sol.extend([d2str[val], scale[int (level/3)]])\n",
    "            elif scale_describe:\n",
    "                sol.append(scale[int (level/3)])\n",
    "                scale_describe = False\n",
    "            n -= val * 10**level\n",
    "            level -= 1\n",
    "            print(\"Solution: \", sol)\n",
    "            print(\"----------------\")\n",
    "        sol = \" \".join(sol)\n",
    "        return sol"
   ]
  },
  {
   "cell_type": "code",
   "execution_count": 3,
   "metadata": {},
   "outputs": [
    {
     "name": "stdout",
     "output_type": "stream",
     "text": [
      "level 2\n",
      "val 3\n",
      "Solution:  ['three', 'hundred']\n",
      "----------------\n",
      "level 1\n",
      "val 6\n",
      "Solution:  ['three', 'hundred', 'sixty']\n",
      "----------------\n",
      "level 0\n",
      "val 3\n"
     ]
    },
    {
     "data": {
      "text/plain": [
       "'three hundred sixty three'"
      ]
     },
     "execution_count": 3,
     "metadata": {},
     "output_type": "execute_result"
    }
   ],
   "source": [
    "Solution().num2str(363)"
   ]
  },
  {
   "cell_type": "code",
   "execution_count": 4,
   "metadata": {},
   "outputs": [
    {
     "name": "stdout",
     "output_type": "stream",
     "text": [
      "level 12\n",
      "val 1\n",
      "Solution:  ['one', 'trillion']\n",
      "----------------\n",
      "level 11\n",
      "val 0\n",
      "Solution:  ['one', 'trillion']\n",
      "----------------\n",
      "level 10\n",
      "val 0\n",
      "Solution:  ['one', 'trillion']\n",
      "----------------\n",
      "level 9\n",
      "val 0\n",
      "Solution:  ['one', 'trillion']\n",
      "----------------\n",
      "level 8\n",
      "val 0\n",
      "Solution:  ['one', 'trillion']\n",
      "----------------\n",
      "level 7\n",
      "val 0\n",
      "Solution:  ['one', 'trillion']\n",
      "----------------\n",
      "level 6\n",
      "val 0\n",
      "Solution:  ['one', 'trillion']\n",
      "----------------\n",
      "level 5\n",
      "val 0\n",
      "Solution:  ['one', 'trillion']\n",
      "----------------\n",
      "level 4\n",
      "val 0\n",
      "Solution:  ['one', 'trillion']\n",
      "----------------\n",
      "level 3\n",
      "val 0\n",
      "Solution:  ['one', 'trillion']\n",
      "----------------\n",
      "level 2\n",
      "val 0\n",
      "Solution:  ['one', 'trillion']\n",
      "----------------\n",
      "level 1\n",
      "val 1\n"
     ]
    },
    {
     "data": {
      "text/plain": [
       "'one trillion fourteen'"
      ]
     },
     "execution_count": 4,
     "metadata": {},
     "output_type": "execute_result"
    }
   ],
   "source": [
    "Solution().num2str(1000000000014)"
   ]
  },
  {
   "cell_type": "code",
   "execution_count": 5,
   "metadata": {},
   "outputs": [
    {
     "name": "stdout",
     "output_type": "stream",
     "text": [
      "level 20\n",
      "val 2\n",
      "Solution:  ['two', 'hundred']\n",
      "----------------\n",
      "level 19\n",
      "val 3\n",
      "Solution:  ['two', 'hundred', 'thirty']\n",
      "----------------\n",
      "level 18\n",
      "val 9\n",
      "Solution:  ['two', 'hundred', 'thirty', 'nine', 'quintillion']\n",
      "----------------\n",
      "level 17\n",
      "val 2\n",
      "Solution:  ['two', 'hundred', 'thirty', 'nine', 'quintillion', 'two', 'hundred']\n",
      "----------------\n",
      "level 16\n",
      "val 3\n",
      "Solution:  ['two', 'hundred', 'thirty', 'nine', 'quintillion', 'two', 'hundred', 'thirty']\n",
      "----------------\n",
      "level 15\n",
      "val 4\n",
      "Solution:  ['two', 'hundred', 'thirty', 'nine', 'quintillion', 'two', 'hundred', 'thirty', 'four', 'quadrillion']\n",
      "----------------\n",
      "level 14\n",
      "val 2\n",
      "Solution:  ['two', 'hundred', 'thirty', 'nine', 'quintillion', 'two', 'hundred', 'thirty', 'four', 'quadrillion', 'two', 'hundred']\n",
      "----------------\n",
      "level 13\n",
      "val 3\n",
      "Solution:  ['two', 'hundred', 'thirty', 'nine', 'quintillion', 'two', 'hundred', 'thirty', 'four', 'quadrillion', 'two', 'hundred', 'thirty']\n",
      "----------------\n",
      "level 12\n",
      "val 0\n",
      "Solution:  ['two', 'hundred', 'thirty', 'nine', 'quintillion', 'two', 'hundred', 'thirty', 'four', 'quadrillion', 'two', 'hundred', 'thirty', 'trillion']\n",
      "----------------\n",
      "level 11\n",
      "val 0\n",
      "Solution:  ['two', 'hundred', 'thirty', 'nine', 'quintillion', 'two', 'hundred', 'thirty', 'four', 'quadrillion', 'two', 'hundred', 'thirty', 'trillion']\n",
      "----------------\n",
      "level 10\n",
      "val 0\n",
      "Solution:  ['two', 'hundred', 'thirty', 'nine', 'quintillion', 'two', 'hundred', 'thirty', 'four', 'quadrillion', 'two', 'hundred', 'thirty', 'trillion']\n",
      "----------------\n",
      "level 9\n",
      "val 0\n",
      "Solution:  ['two', 'hundred', 'thirty', 'nine', 'quintillion', 'two', 'hundred', 'thirty', 'four', 'quadrillion', 'two', 'hundred', 'thirty', 'trillion']\n",
      "----------------\n",
      "level 8\n",
      "val 0\n",
      "Solution:  ['two', 'hundred', 'thirty', 'nine', 'quintillion', 'two', 'hundred', 'thirty', 'four', 'quadrillion', 'two', 'hundred', 'thirty', 'trillion']\n",
      "----------------\n",
      "level 7\n",
      "val 0\n",
      "Solution:  ['two', 'hundred', 'thirty', 'nine', 'quintillion', 'two', 'hundred', 'thirty', 'four', 'quadrillion', 'two', 'hundred', 'thirty', 'trillion']\n",
      "----------------\n",
      "level 6\n",
      "val 2\n",
      "Solution:  ['two', 'hundred', 'thirty', 'nine', 'quintillion', 'two', 'hundred', 'thirty', 'four', 'quadrillion', 'two', 'hundred', 'thirty', 'trillion', 'two', 'million']\n",
      "----------------\n",
      "level 5\n",
      "val 1\n",
      "Solution:  ['two', 'hundred', 'thirty', 'nine', 'quintillion', 'two', 'hundred', 'thirty', 'four', 'quadrillion', 'two', 'hundred', 'thirty', 'trillion', 'two', 'million', 'one', 'hundred']\n",
      "----------------\n",
      "level 4\n",
      "val 3\n",
      "Solution:  ['two', 'hundred', 'thirty', 'nine', 'quintillion', 'two', 'hundred', 'thirty', 'four', 'quadrillion', 'two', 'hundred', 'thirty', 'trillion', 'two', 'million', 'one', 'hundred', 'thirty']\n",
      "----------------\n",
      "level 3\n",
      "val 2\n",
      "Solution:  ['two', 'hundred', 'thirty', 'nine', 'quintillion', 'two', 'hundred', 'thirty', 'four', 'quadrillion', 'two', 'hundred', 'thirty', 'trillion', 'two', 'million', 'one', 'hundred', 'thirty', 'two', 'thousand']\n",
      "----------------\n",
      "level 2\n",
      "val 1\n",
      "Solution:  ['two', 'hundred', 'thirty', 'nine', 'quintillion', 'two', 'hundred', 'thirty', 'four', 'quadrillion', 'two', 'hundred', 'thirty', 'trillion', 'two', 'million', 'one', 'hundred', 'thirty', 'two', 'thousand', 'one', 'hundred']\n",
      "----------------\n",
      "level 1\n",
      "val 3\n",
      "Solution:  ['two', 'hundred', 'thirty', 'nine', 'quintillion', 'two', 'hundred', 'thirty', 'four', 'quadrillion', 'two', 'hundred', 'thirty', 'trillion', 'two', 'million', 'one', 'hundred', 'thirty', 'two', 'thousand', 'one', 'hundred', 'thirty']\n",
      "----------------\n",
      "level 0\n",
      "val 9\n"
     ]
    },
    {
     "data": {
      "text/plain": [
       "'two hundred thirty nine quintillion two hundred thirty four quadrillion two hundred thirty trillion two million one hundred thirty two thousand one hundred thirty nine'"
      ]
     },
     "execution_count": 5,
     "metadata": {},
     "output_type": "execute_result"
    }
   ],
   "source": [
    "Solution().num2str(239234230000002132139)"
   ]
  },
  {
   "cell_type": "code",
   "execution_count": null,
   "metadata": {},
   "outputs": [],
   "source": []
  },
  {
   "cell_type": "code",
   "execution_count": null,
   "metadata": {},
   "outputs": [],
   "source": []
  }
 ],
 "metadata": {
  "kernelspec": {
   "display_name": "Python 3",
   "language": "python",
   "name": "python3"
  },
  "language_info": {
   "codemirror_mode": {
    "name": "ipython",
    "version": 3
   },
   "file_extension": ".py",
   "mimetype": "text/x-python",
   "name": "python",
   "nbconvert_exporter": "python",
   "pygments_lexer": "ipython3",
   "version": "3.8.5"
  }
 },
 "nbformat": 4,
 "nbformat_minor": 4
}
