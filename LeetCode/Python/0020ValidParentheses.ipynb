{
 "cells": [
  {
   "cell_type": "markdown",
   "metadata": {},
   "source": [
    "# 20. Valid Parentheses\n",
    "Given a string s containing just the characters '(', ')', '{', '}', '[' and ']', determine if the input string is valid.\n",
    "\n",
    "An input string is valid if:\n",
    "\n",
    "    Open brackets must be closed by the same type of brackets.\n",
    "    Open brackets must be closed in the correct order."
   ]
  },
  {
   "cell_type": "code",
   "execution_count": 1,
   "metadata": {},
   "outputs": [],
   "source": [
    "class Solution():\n",
    "        \n",
    "    def isValid(self,s) -> bool:\n",
    "        stack = []\n",
    "        paren = {\"{\":\"}\",\"[\":\"]\",\"(\":\")\"}\n",
    "        for i in s:\n",
    "            if i in paren:\n",
    "                stack.append(i)\n",
    "            else:\n",
    "                try:\n",
    "                    x = stack.pop()\n",
    "                except IndexError:\n",
    "                    return False\n",
    "                if paren[x] != i:\n",
    "                    return False\n",
    "        return stack == []"
   ]
  },
  {
   "cell_type": "code",
   "execution_count": 2,
   "metadata": {},
   "outputs": [
    {
     "data": {
      "text/plain": [
       "True"
      ]
     },
     "execution_count": 2,
     "metadata": {},
     "output_type": "execute_result"
    }
   ],
   "source": [
    "Solution().isValid(\"[(){[]}]\")"
   ]
  },
  {
   "cell_type": "code",
   "execution_count": null,
   "metadata": {},
   "outputs": [],
   "source": []
  }
 ],
 "metadata": {
  "kernelspec": {
   "display_name": "Python 3",
   "language": "python",
   "name": "python3"
  },
  "language_info": {
   "codemirror_mode": {
    "name": "ipython",
    "version": 3
   },
   "file_extension": ".py",
   "mimetype": "text/x-python",
   "name": "python",
   "nbconvert_exporter": "python",
   "pygments_lexer": "ipython3",
   "version": "3.8.5"
  }
 },
 "nbformat": 4,
 "nbformat_minor": 4
}
