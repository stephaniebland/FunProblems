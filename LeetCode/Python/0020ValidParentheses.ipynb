{
 "cells": [
  {
   "cell_type": "markdown",
   "metadata": {},
   "source": [
    "# Valid Parentheses\n",
    "Given a string s containing just the characters '(', ')', '{', '}', '[' and ']', determine if the input string is valid.\n",
    "\n",
    "An input string is valid if:\n",
    "\n",
    "    Open brackets must be closed by the same type of brackets.\n",
    "    Open brackets must be closed in the correct order."
   ]
  },
  {
   "cell_type": "code",
   "execution_count": 103,
   "metadata": {},
   "outputs": [],
   "source": [
    "class Solution():\n",
    "    def __init__(self,stack = [],openparentheses = (\"(\",\"{\",\"[\")):\n",
    "        self.stack = stack\n",
    "        self.openparentheses = openparentheses\n",
    "\n",
    "    def matchParen(self,x,y) -> bool:\n",
    "        if (x,y) == (\"[\",\"]\"):\n",
    "            return True\n",
    "        elif (x,y) == (\"(\",\")\"):\n",
    "            return True\n",
    "        elif (x,y) == (\"{\",\"}\"):\n",
    "            return True\n",
    "        else:\n",
    "            return False\n",
    "\n",
    "    def isOpen(self,x) -> bool:\n",
    "        if x in self.openparentheses:\n",
    "            return True\n",
    "        else:\n",
    "            return False\n",
    "        \n",
    "    def isValid(self,s) -> bool:\n",
    "        for i in s:\n",
    "            if self.isOpen(i):\n",
    "                self.stack.append(i)\n",
    "            else:\n",
    "                try:\n",
    "                    x = self.stack.pop()\n",
    "                except IndexError:\n",
    "                    return False\n",
    "                if not self.matchParen(x,i):\n",
    "                    return False\n",
    "        if self.stack == []:\n",
    "            return True\n",
    "        else:\n",
    "            return False"
   ]
  },
  {
   "cell_type": "code",
   "execution_count": 104,
   "metadata": {},
   "outputs": [
    {
     "data": {
      "text/plain": [
       "True"
      ]
     },
     "execution_count": 104,
     "metadata": {},
     "output_type": "execute_result"
    }
   ],
   "source": [
    "Solution().isValid(\"{[]}\")"
   ]
  },
  {
   "cell_type": "code",
   "execution_count": 95,
   "metadata": {},
   "outputs": [],
   "source": [
    "def matchParen(x,y) -> bool:\n",
    "    if (x,y) == (\"[\",\"]\"):\n",
    "        return True\n",
    "    elif (x,y) == (\"(\",\")\"):\n",
    "        return True\n",
    "    elif (x,y) == (\"{\",\"}\"):\n",
    "        return True\n",
    "    else:\n",
    "        return False"
   ]
  },
  {
   "cell_type": "code",
   "execution_count": 96,
   "metadata": {},
   "outputs": [
    {
     "data": {
      "text/plain": [
       "True"
      ]
     },
     "execution_count": 96,
     "metadata": {},
     "output_type": "execute_result"
    }
   ],
   "source": [
    "matchParen(\"(\",\")\")"
   ]
  },
  {
   "cell_type": "code",
   "execution_count": 97,
   "metadata": {},
   "outputs": [],
   "source": [
    "def isOpen(x) -> bool:\n",
    "    if x in (\"(\",\"{\",\"[\"):\n",
    "        return True\n",
    "    else:\n",
    "        return False"
   ]
  },
  {
   "cell_type": "code",
   "execution_count": 98,
   "metadata": {},
   "outputs": [
    {
     "data": {
      "text/plain": [
       "False"
      ]
     },
     "execution_count": 98,
     "metadata": {},
     "output_type": "execute_result"
    }
   ],
   "source": [
    "isOpen(\"]\")"
   ]
  },
  {
   "cell_type": "code",
   "execution_count": 99,
   "metadata": {},
   "outputs": [],
   "source": [
    "# Use a stack solution, define a list and use pop and append\n",
    "stack = []\n",
    "\n",
    "def isValid(s) -> bool:\n",
    "    for i in s:\n",
    "        if isOpen(i):\n",
    "            stack.append(i)\n",
    "            print(stack)\n",
    "        else:\n",
    "            try:\n",
    "                x = stack.pop()\n",
    "            except IndexError:\n",
    "                print(\"IndexError\")\n",
    "                return False\n",
    "            print(x,i,matchParen(x,i))\n",
    "            if not matchParen(x,i):\n",
    "                return False\n",
    "    print(stack)\n",
    "    if stack == []:\n",
    "        return True\n",
    "    else:\n",
    "        return False\n"
   ]
  },
  {
   "cell_type": "code",
   "execution_count": 100,
   "metadata": {},
   "outputs": [
    {
     "name": "stdout",
     "output_type": "stream",
     "text": [
      "['{']\n",
      "['{', '[']\n",
      "[ ] True\n",
      "{ } True\n",
      "[]\n"
     ]
    },
    {
     "data": {
      "text/plain": [
       "True"
      ]
     },
     "execution_count": 100,
     "metadata": {},
     "output_type": "execute_result"
    }
   ],
   "source": [
    "isValid(\"{[]}\")"
   ]
  },
  {
   "cell_type": "code",
   "execution_count": null,
   "metadata": {},
   "outputs": [],
   "source": []
  }
 ],
 "metadata": {
  "kernelspec": {
   "display_name": "Python 3",
   "language": "python",
   "name": "python3"
  },
  "language_info": {
   "codemirror_mode": {
    "name": "ipython",
    "version": 3
   },
   "file_extension": ".py",
   "mimetype": "text/x-python",
   "name": "python",
   "nbconvert_exporter": "python",
   "pygments_lexer": "ipython3",
   "version": "3.8.5"
  }
 },
 "nbformat": 4,
 "nbformat_minor": 4
}
