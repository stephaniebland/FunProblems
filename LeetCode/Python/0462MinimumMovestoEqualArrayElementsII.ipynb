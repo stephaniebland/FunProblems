{
 "cells": [
  {
   "cell_type": "markdown",
   "metadata": {},
   "source": [
    "# 462. Minimum Moves to Equal Array Elements II\n",
    "Given an integer array nums of size n, return the minimum number of moves required to make all array elements equal.\n",
    "\n",
    "In one move, you can increment or decrement an element of the array by 1."
   ]
  },
  {
   "cell_type": "markdown",
   "metadata": {},
   "source": [
    "### Mathematical Solution\n",
    "Let the elements of your list $X$ be $x_i$ for $i=1,2,...,n$. Then you want to find $k$ such that \n",
    "\\begin{align}\n",
    "\\ \\sum_{i=1}^n |x_i-k|= min\\sum_{i=1}^n |x_i-y|   \\forall y \\\\\n",
    "\\end{align}\n",
    "i.e. You want to find $k$ such that the sum for all $x_i$ of the absolute differences of $x_i$ and $k$ is at it's minimum.\n",
    "\n",
    "This occurs when $k=median(X)$. "
   ]
  },
  {
   "cell_type": "markdown",
   "metadata": {},
   "source": [
    "### Implementation"
   ]
  },
  {
   "cell_type": "code",
   "execution_count": 1,
   "metadata": {},
   "outputs": [],
   "source": [
    "# The shortest way to make all elements equal is by setting all elements to the median. \n",
    "\n",
    "class Solution:\n",
    "    def minMoves2(self, nums) -> int:\n",
    "        # Sort the list so that the middle values are the median\n",
    "        nums.sort()\n",
    "        # Find the index of the median\n",
    "        n = len(nums)\n",
    "        median_index = int(n/2)\n",
    "        # If the list has an even number of elements, take the average of the two middlemost values\n",
    "        if n % 2 == 0:\n",
    "            median = round((nums[median_index-1]+nums[median_index])/2)\n",
    "        else:\n",
    "            median = nums[median_index]\n",
    "        # Now the fun part: Calculate the sum of the absolute value of the differences between the list values and the median\n",
    "        min_moves = 0\n",
    "        for i in nums:\n",
    "            min_moves += abs(i - median)\n",
    "        return min_moves"
   ]
  },
  {
   "cell_type": "code",
   "execution_count": 2,
   "metadata": {},
   "outputs": [
    {
     "data": {
      "text/plain": [
       "16"
      ]
     },
     "execution_count": 2,
     "metadata": {},
     "output_type": "execute_result"
    }
   ],
   "source": [
    "Solution().minMoves2([1,10,2,9,3])"
   ]
  },
  {
   "cell_type": "markdown",
   "metadata": {},
   "source": [
    "### Further evidence that the median is correct"
   ]
  },
  {
   "cell_type": "code",
   "execution_count": 3,
   "metadata": {},
   "outputs": [
    {
     "data": {
      "text/plain": [
       "25"
      ]
     },
     "execution_count": 3,
     "metadata": {},
     "output_type": "execute_result"
    }
   ],
   "source": [
    "lst = ([1,1,2,2,3,3,4,4,5,5,100,100,100])\n",
    "mode = 100\n",
    "median = 4\n",
    "average = int(sum(lst)/len(lst))\n",
    "average"
   ]
  },
  {
   "cell_type": "code",
   "execution_count": 4,
   "metadata": {},
   "outputs": [
    {
     "name": "stdout",
     "output_type": "stream",
     "text": [
      "970\n",
      "302\n",
      "445\n"
     ]
    }
   ],
   "source": [
    "for k in [mode,median,average]:\n",
    "    total = sum(list(map(lambda x: abs(x - k), lst)))\n",
    "    print (total)"
   ]
  },
  {
   "cell_type": "code",
   "execution_count": null,
   "metadata": {},
   "outputs": [],
   "source": []
  }
 ],
 "metadata": {
  "kernelspec": {
   "display_name": "Python 3",
   "language": "python",
   "name": "python3"
  },
  "language_info": {
   "codemirror_mode": {
    "name": "ipython",
    "version": 3
   },
   "file_extension": ".py",
   "mimetype": "text/x-python",
   "name": "python",
   "nbconvert_exporter": "python",
   "pygments_lexer": "ipython3",
   "version": "3.8.5"
  }
 },
 "nbformat": 4,
 "nbformat_minor": 4
}
