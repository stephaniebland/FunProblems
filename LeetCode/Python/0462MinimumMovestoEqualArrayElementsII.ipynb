{
 "cells": [
  {
   "cell_type": "markdown",
   "metadata": {},
   "source": [
    "# 462. Minimum Moves to Equal Array Elements II\n",
    "Given an integer array nums of size n, return the minimum number of moves required to make all array elements equal.\n",
    "\n",
    "In one move, you can increment or decrement an element of the array by 1."
   ]
  },
  {
   "cell_type": "markdown",
   "metadata": {},
   "source": [
    "### Mathematical Solution\n",
    "Let the elements of an ordered list $X$ be $x_i$ for $i=1,2,...,n$. Then you want to find $k$ such that \n",
    "\\begin{align}\n",
    "\\ \\sum_{i=1}^n |x_i-k|= min\\sum_{i=1}^n |x_i-y|   \\forall y \\\\\n",
    "\\end{align}\n",
    "i.e. You want to find $k$ such that the sum for all $x_i$ of the absolute differences of $x_i$ and $k$ is at it's minimum.\n",
    "\n",
    "This occurs when $k=median(X)$. \n",
    "\n",
    "Suppose $x_m\\leq k \\leq k+c\\leq x_{m+1}$. Then \n",
    "\\begin{align}\n",
    "\\ f(k)=\\sum_{i=1}^m (k-x_i)+\\sum_{i=m+1}^n (x_i-k)\\\\\n",
    "\\end{align}\n",
    "and\n",
    "\\begin{eqnarray}\n",
    "\\ f(k+c)&=&\\sum_{i=1}^m (k+c-x_i)+\\sum_{i=m+1}^n (x_i-(k+c))\\\\\n",
    "\\ f(k+c)&=&mc-(n-m)c + \\sum_{i=1}^m (k-x_i)+\\sum_{i=m+1}^n (x_i-k)\\\\\n",
    "\\ f(k+c)&=&mc-nc+mc +f(k)\\\\\n",
    "\\ f(k+c)&=&c(2m-n) +f(k)\\\\\n",
    "\\ f(k+c)-f(k)&=&c(2m-n)\\\\\n",
    "\\end{eqnarray}\n",
    "\n",
    "Therefore $|f(k+c)-f(k)|=0$  when $m=n/2$, which occurs at the median. If $k\\leq x_{n/2}$ or $x_{n/2+1}\\leq k$, then $|f(k+c)-f(k)|\\geq 0$ which means that f(k) can only increase outside of that range. "
   ]
  },
  {
   "cell_type": "markdown",
   "metadata": {},
   "source": [
    "### Implementation"
   ]
  },
  {
   "cell_type": "code",
   "execution_count": 1,
   "metadata": {},
   "outputs": [],
   "source": [
    "# The shortest way to make all elements equal is by setting all elements to the median.\n",
    "# It also works to set all the elements to the element right after the median for lists with an even number of elements.\n",
    "\n",
    "class Solution:\n",
    "    def minMoves2(self, nums) -> int:\n",
    "        # Sort the list so that the middle values are the median\n",
    "        nums.sort()\n",
    "        # Find the index of the median\n",
    "        n = len(nums)\n",
    "        median_index = int(n/2)\n",
    "        k = nums[median_index]\n",
    "        # Now the fun part: Calculate the sum of the absolute value of the differences between the list values and the median\n",
    "        min_moves = 0\n",
    "        for i in nums:\n",
    "            min_moves += abs(i - k)\n",
    "        return min_moves"
   ]
  },
  {
   "cell_type": "code",
   "execution_count": 2,
   "metadata": {},
   "outputs": [
    {
     "data": {
      "text/plain": [
       "16"
      ]
     },
     "execution_count": 2,
     "metadata": {},
     "output_type": "execute_result"
    }
   ],
   "source": [
    "Solution().minMoves2([1,10,2,9,])"
   ]
  },
  {
   "cell_type": "markdown",
   "metadata": {},
   "source": [
    "### Further evidence that the median is correct"
   ]
  },
  {
   "cell_type": "code",
   "execution_count": 3,
   "metadata": {},
   "outputs": [
    {
     "data": {
      "text/plain": [
       "25"
      ]
     },
     "execution_count": 3,
     "metadata": {},
     "output_type": "execute_result"
    }
   ],
   "source": [
    "lst = ([1,1,2,2,3,3,4,4,5,5,100,100,100])\n",
    "mode = 100\n",
    "median = 4\n",
    "average = int(sum(lst)/len(lst))\n",
    "average"
   ]
  },
  {
   "cell_type": "code",
   "execution_count": 4,
   "metadata": {},
   "outputs": [
    {
     "name": "stdout",
     "output_type": "stream",
     "text": [
      "970\n",
      "302\n",
      "445\n"
     ]
    }
   ],
   "source": [
    "for k in [mode,median,average]:\n",
    "    total = sum(list(map(lambda x: abs(x - k), lst)))\n",
    "    print (total)"
   ]
  },
  {
   "cell_type": "code",
   "execution_count": null,
   "metadata": {},
   "outputs": [],
   "source": []
  }
 ],
 "metadata": {
  "kernelspec": {
   "display_name": "Python 3",
   "language": "python",
   "name": "python3"
  },
  "language_info": {
   "codemirror_mode": {
    "name": "ipython",
    "version": 3
   },
   "file_extension": ".py",
   "mimetype": "text/x-python",
   "name": "python",
   "nbconvert_exporter": "python",
   "pygments_lexer": "ipython3",
   "version": "3.8.5"
  }
 },
 "nbformat": 4,
 "nbformat_minor": 4
}
