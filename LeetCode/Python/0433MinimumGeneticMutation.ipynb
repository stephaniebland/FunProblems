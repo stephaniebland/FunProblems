{
 "cells": [
  {
   "cell_type": "markdown",
   "metadata": {},
   "source": [
    "# 433. Minimum Genetic Mutation\n",
    "A gene string can be represented by an 8-character long string, with choices from 'A', 'C', 'G', and 'T'.\n",
    "\n",
    "Suppose we need to investigate a mutation from a gene string start to a gene string end where one mutation is defined as one single character changed in the gene string.\n",
    "\n",
    "    For example, \"AACCGGTT\" --> \"AACCGGTA\" is one mutation.\n",
    "\n",
    "There is also a gene bank bank that records all the valid gene mutations. A gene must be in bank to make it a valid gene string.\n",
    "\n",
    "Given the two gene strings start and end and the gene bank bank, return the minimum number of mutations needed to mutate from start to end. If there is no such a mutation, return -1.\n",
    "\n",
    "Note that the starting point is assumed to be valid, so it might not be included in the bank."
   ]
  },
  {
   "cell_type": "markdown",
   "metadata": {},
   "source": [
    "### Idea for Solution\n",
    "You want to create a graph where two nodes are connected if and only if they have a single letter difference.\n",
    "\n",
    "Then you want to do a breadth-first search to find the shortest path between the start and the end nodes."
   ]
  },
  {
   "cell_type": "markdown",
   "metadata": {},
   "source": [
    "### Solution"
   ]
  },
  {
   "cell_type": "code",
   "execution_count": 1,
   "metadata": {},
   "outputs": [],
   "source": [
    "import regex as re"
   ]
  },
  {
   "cell_type": "code",
   "execution_count": 2,
   "metadata": {},
   "outputs": [],
   "source": [
    "# Clearly this problem applies to Single Nucleotide Polymorphisms (SNPs)\n",
    "# So the question is, how many SNPs to get from the starting sequence to the end sequence\n",
    "# Also, this question is identical to the game word ladder\n",
    "# Which means this leetcode question is identical: https://leetcode.com/problems/word-ladder/\n",
    "\n",
    "class Solution:\n",
    "    def minMutation(self, start: str, end: str, bank: list) -> int:\n",
    "        seq_len = len(start)\n",
    "        bank = set(bank)\n",
    "        depth = 0\n",
    "        # Stop early for trivial substitutions\n",
    "        if start == end:\n",
    "            return depth\n",
    "        if end not in bank:\n",
    "            depth -= 1\n",
    "            return depth\n",
    "\n",
    "        # If nontrivial, start a breadth-first search\n",
    "        queue = [start]\n",
    "        visited = {start: depth}\n",
    "        while queue:\n",
    "            # Select a node and remove it from the queue\n",
    "            node = queue.pop(0)\n",
    "            # Now find the children of the unvisited node\n",
    "            for nucleotide_index in range(seq_len):\n",
    "                option = node[0:nucleotide_index] + \"\\w\" + node[nucleotide_index+1:]\n",
    "                for seq in bank:\n",
    "                    if seq not in visited:\n",
    "                        if re.search(option, seq):\n",
    "                            if seq == end:\n",
    "                                depth = visited[node] + 1\n",
    "                                return depth\n",
    "                            visited[seq] = visited[node] + 1\n",
    "                            queue.append(seq)\n",
    "        if node != end:\n",
    "            depth -= 1\n",
    "        return depth\n"
   ]
  },
  {
   "cell_type": "code",
   "execution_count": 3,
   "metadata": {},
   "outputs": [
    {
     "data": {
      "text/plain": [
       "2"
      ]
     },
     "execution_count": 3,
     "metadata": {},
     "output_type": "execute_result"
    }
   ],
   "source": [
    "start = \"AACCGGTT\"\n",
    "end = \"AAACGGTA\"\n",
    "bank = [\"AACCGGTA\",\"AACCGCTA\",\"AAACGGTA\"]\n",
    "\n",
    "Solution().minMutation(start, end, bank)"
   ]
  },
  {
   "cell_type": "code",
   "execution_count": null,
   "metadata": {},
   "outputs": [],
   "source": []
  }
 ],
 "metadata": {
  "kernelspec": {
   "display_name": "Python 3",
   "language": "python",
   "name": "python3"
  },
  "language_info": {
   "codemirror_mode": {
    "name": "ipython",
    "version": 3
   },
   "file_extension": ".py",
   "mimetype": "text/x-python",
   "name": "python",
   "nbconvert_exporter": "python",
   "pygments_lexer": "ipython3",
   "version": "3.8.5"
  }
 },
 "nbformat": 4,
 "nbformat_minor": 4
}
