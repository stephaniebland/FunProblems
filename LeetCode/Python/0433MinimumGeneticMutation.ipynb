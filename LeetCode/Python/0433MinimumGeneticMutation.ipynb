{
 "cells": [
  {
   "cell_type": "markdown",
   "metadata": {},
   "source": [
    "# 433. Minimum Genetic Mutation\n",
    "A gene string can be represented by an 8-character long string, with choices from 'A', 'C', 'G', and 'T'.\n",
    "\n",
    "Suppose we need to investigate a mutation from a gene string start to a gene string end where one mutation is defined as one single character changed in the gene string.\n",
    "\n",
    "    For example, \"AACCGGTT\" --> \"AACCGGTA\" is one mutation.\n",
    "\n",
    "There is also a gene bank bank that records all the valid gene mutations. A gene must be in bank to make it a valid gene string.\n",
    "\n",
    "Given the two gene strings start and end and the gene bank bank, return the minimum number of mutations needed to mutate from start to end. If there is no such a mutation, return -1.\n",
    "\n",
    "Note that the starting point is assumed to be valid, so it might not be included in the bank."
   ]
  },
  {
   "cell_type": "markdown",
   "metadata": {},
   "source": [
    "### Idea for Solution\n",
    "You want to create a graph where two nodes are connected if and only if they have a single letter difference.\n",
    "\n",
    "Then you want to do a breadth-first search to find the shortest path between the start and the end nodes."
   ]
  },
  {
   "cell_type": "markdown",
   "metadata": {},
   "source": [
    "### Solution"
   ]
  },
  {
   "cell_type": "code",
   "execution_count": 1,
   "metadata": {},
   "outputs": [],
   "source": [
    "import regex as re"
   ]
  },
  {
   "cell_type": "code",
   "execution_count": 2,
   "metadata": {},
   "outputs": [],
   "source": [
    "# Clearly this problem applies to Single Nucleotide Polymorphisms (SNPs)\n",
    "# So the question is, how many SNPs to get from the starting sequence to the end sequence\n",
    "# Also, this question is identical to the game word ladder\n",
    "# Which means this leetcode question is identical: https://leetcode.com/problems/word-ladder/\n",
    "\n",
    "class Solution:\n",
    "    def minMutation(self, start: str, end: str, bank: list) -> int:\n",
    "        seq_len = len(start)\n",
    "        # Stop early for trivial substitutions\n",
    "        if start == end:\n",
    "            return 0\n",
    "        if end not in bank:\n",
    "            return -1\n",
    "\n",
    "        # If nontrivial, create a graph with all sequences\n",
    "        graph_mut = {start: []}\n",
    "        for i in bank:\n",
    "            graph_mut[i]=[]\n",
    "            \n",
    "        depth = self.breadth_first_add_and_search(bank, start, end, seq_len)\n",
    "        return depth\n",
    "        \n",
    "    def single_sub(self, seq: str, bank: list, seq_len: int) -> bool:\n",
    "        if seq in bank:\n",
    "            bank.remove(seq)\n",
    "        neighbors = []\n",
    "        for nucleotide_index in range(seq_len):\n",
    "            option = seq[0:nucleotide_index] + \"\\w\" + seq[nucleotide_index+1:]\n",
    "            for key in bank:\n",
    "                if re.search(option,key):\n",
    "                    neighbors.append(key)\n",
    "        return neighbors\n",
    "\n",
    "    def breadth_first_add_and_search(self, bank, start, end, seq_len, depth = 0, visited = []):\n",
    "        queue = [start]\n",
    "        visited.append(start)\n",
    "        print(\"BFAS\")\n",
    "        while queue:\n",
    "            depth += 1\n",
    "            node = queue[0]\n",
    "            queue.remove(node)\n",
    "            neighbors = self.single_sub(node, bank, seq_len)\n",
    "            print(neighbors)\n",
    "            print(depth)\n",
    "            if end in neighbors:\n",
    "                return depth\n",
    "            for node in neighbors:\n",
    "                if node not in visited:\n",
    "                    queue.append(node)\n",
    "        return -1\n"
   ]
  },
  {
   "cell_type": "code",
   "execution_count": 4,
   "metadata": {},
   "outputs": [
    {
     "name": "stdout",
     "output_type": "stream",
     "text": [
      "BFAS\n",
      "['AAC']\n",
      "1\n",
      "['ACC']\n",
      "2\n",
      "['CCC']\n",
      "3\n"
     ]
    },
    {
     "data": {
      "text/plain": [
       "3"
      ]
     },
     "execution_count": 4,
     "metadata": {},
     "output_type": "execute_result"
    }
   ],
   "source": [
    "start = \"AACCGGTT\"\n",
    "end = \"AAACGGTA\"\n",
    "bank = [\"AACCGGTA\",\"AACCGCTA\",\"AAACGGTA\"]\n",
    "\n",
    "start = \"CGT\"\n",
    "end = \"AGA\"\n",
    "bank = [\"CGA\",\"CCA\",\"AGA\"]\n",
    "\n",
    "start = \"AAA\"\n",
    "end = \"CCC\"\n",
    "bank = [\"AAC\",\"ACC\",\"CCC\"]\n",
    "\n",
    "\"AACCTTGG\"\n",
    "\"AATTCCGG\"\n",
    "[\"AATTCCGG\",\"AACCTGGG\",\"AACCCCGG\",\"AACCTACC\"]\n",
    "\n",
    "Solution().minMutation(start, end, bank)"
   ]
  },
  {
   "cell_type": "code",
   "execution_count": null,
   "metadata": {},
   "outputs": [],
   "source": []
  }
 ],
 "metadata": {
  "kernelspec": {
   "display_name": "Python 3",
   "language": "python",
   "name": "python3"
  },
  "language_info": {
   "codemirror_mode": {
    "name": "ipython",
    "version": 3
   },
   "file_extension": ".py",
   "mimetype": "text/x-python",
   "name": "python",
   "nbconvert_exporter": "python",
   "pygments_lexer": "ipython3",
   "version": "3.8.5"
  }
 },
 "nbformat": 4,
 "nbformat_minor": 4
}
