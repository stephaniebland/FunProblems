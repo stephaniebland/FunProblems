{
 "cells": [
  {
   "cell_type": "markdown",
   "metadata": {},
   "source": [
    "# 433. Minimum Genetic Mutation\n",
    "A gene string can be represented by an 8-character long string, with choices from 'A', 'C', 'G', and 'T'.\n",
    "\n",
    "Suppose we need to investigate a mutation from a gene string start to a gene string end where one mutation is defined as one single character changed in the gene string.\n",
    "\n",
    "    For example, \"AACCGGTT\" --> \"AACCGGTA\" is one mutation.\n",
    "\n",
    "There is also a gene bank bank that records all the valid gene mutations. A gene must be in bank to make it a valid gene string.\n",
    "\n",
    "Given the two gene strings start and end and the gene bank bank, return the minimum number of mutations needed to mutate from start to end. If there is no such a mutation, return -1.\n",
    "\n",
    "Note that the starting point is assumed to be valid, so it might not be included in the bank."
   ]
  },
  {
   "cell_type": "markdown",
   "metadata": {},
   "source": [
    "### Idea for Solution\n",
    "You want to create a graph where two nodes are connected if and only if they have a single letter difference.\n",
    "\n",
    "Then you want to do a breadth-first search to find the shortest path between the start and the end nodes."
   ]
  },
  {
   "cell_type": "markdown",
   "metadata": {},
   "source": [
    "### Solution"
   ]
  },
  {
   "cell_type": "code",
   "execution_count": 38,
   "metadata": {},
   "outputs": [],
   "source": [
    "from collections import deque"
   ]
  },
  {
   "cell_type": "code",
   "execution_count": 110,
   "metadata": {},
   "outputs": [],
   "source": [
    "# Clearly this problem applies to Single Nucleotide Polymorphisms (SNPs)\n",
    "# So the question is, how many SNPs to get from the starting sequence to the end sequence\n",
    "# Also, this question is identical to the game word ladder\n",
    "# Which means this leetcode question is identical: https://leetcode.com/problems/word-ladder/\n",
    "\n",
    "class Solution:\n",
    "    def minMutation(self, start: str, end: str, bank: list) -> int:\n",
    "        seq_len = len(start)\n",
    "        # Stop early for trivial substitutions\n",
    "        if start == end:\n",
    "            return 0\n",
    "        if self.single_sub(start, end, seq_len):\n",
    "            return 1\n",
    "        \n",
    "        # If nontrivial, create a graph with all sequences\n",
    "        graph_mut = self.graph(start)\n",
    "        for seq in bank: \n",
    "            for node in list(graph_mut):\n",
    "                if self.single_sub(node, seq, seq_len):\n",
    "                    graph_mut = self.add_node(graph_mut, node, seq)\n",
    "                    graph_mut = self.add_node(graph_mut, seq, node)\n",
    "        #distance = self.bfs(graph_mut, start, end)\n",
    "        #distance = self.bfs(graph_mut, start, end, [start])\n",
    "        distance = self.bfs(graph_mut, start, end)\n",
    "        return distance\n",
    "        \n",
    "    def single_sub(self, seq1: str, seq2: str, seq_len: int) -> bool:\n",
    "        for i in range(seq_len):\n",
    "            if (seq1[0:i] == seq2[0:i]) and (seq1[i+1:] == seq2[i+1:]):\n",
    "                return True\n",
    "        return False\n",
    "    \n",
    "    def graph(self, start):\n",
    "        graph_mut = {start: []}\n",
    "        return graph_mut\n",
    "    \n",
    "    def add_node(self, graph_mut, seq1, seq2):\n",
    "        if seq2 in graph_mut:\n",
    "            graph_mut[seq2].append(seq1)\n",
    "        else:\n",
    "            graph_mut[seq2]=[seq1]\n",
    "        return graph_mut\n",
    "\n",
    "    def bfs(self, graph_mut, start, end):\n",
    "        queue = [start]\n",
    "        level = {start: 0}\n",
    "        parent = {start: None}  \n",
    "        print(level)\n",
    "        print(parent)\n",
    "        while queue:\n",
    "            node = queue[0]\n",
    "            queue.remove(node)\n",
    "            for neighbor in graph_mut[node]:\n",
    "                if neighbor not in level:            \n",
    "                    queue.append(neighbor)\n",
    "                    level[neighbor] = level[node] + 1\n",
    "                    parent[neighbor] = node\n",
    "                print(level)\n",
    "                if neighbor == end:\n",
    "                    return (level[neighbor])\n",
    "        return -1\n"
   ]
  },
  {
   "cell_type": "markdown",
   "metadata": {},
   "source": [
    "I suspect this problem requires knowledge that I don't know, possibly tries. \n",
    "I'm going to return to this problem after I do some research on tries."
   ]
  },
  {
   "cell_type": "code",
   "execution_count": 111,
   "metadata": {},
   "outputs": [
    {
     "name": "stdout",
     "output_type": "stream",
     "text": [
      "{'AAA': 0}\n",
      "{'AAA': None}\n",
      "{'AAA': 0, 'AAC': 1}\n",
      "{'AAA': 0, 'AAC': 1}\n",
      "{'AAA': 0, 'AAC': 1, 'ACC': 2}\n",
      "{'AAA': 0, 'AAC': 1, 'ACC': 2}\n",
      "{'AAA': 0, 'AAC': 1, 'ACC': 2, 'CCC': 3}\n"
     ]
    },
    {
     "data": {
      "text/plain": [
       "3"
      ]
     },
     "execution_count": 111,
     "metadata": {},
     "output_type": "execute_result"
    }
   ],
   "source": [
    "start = \"AACCGGTT\"\n",
    "end = \"AAACGGTA\"\n",
    "bank = [\"AACCGGTA\",\"AACCGCTA\",\"AAACGGTA\"]\n",
    "\n",
    "start = \"CGT\"\n",
    "end = \"AGA\"\n",
    "bank = [\"CGA\",\"CCA\",\"AGA\"]\n",
    "\n",
    "start = \"AAA\"\n",
    "end = \"CCC\"\n",
    "bank = [\"AAC\",\"ACC\",\"CCC\"]\n",
    "\n",
    "Solution().minMutation(start, end, bank)"
   ]
  },
  {
   "cell_type": "code",
   "execution_count": null,
   "metadata": {},
   "outputs": [],
   "source": []
  },
  {
   "cell_type": "code",
   "execution_count": null,
   "metadata": {},
   "outputs": [],
   "source": []
  }
 ],
 "metadata": {
  "kernelspec": {
   "display_name": "Python 3",
   "language": "python",
   "name": "python3"
  },
  "language_info": {
   "codemirror_mode": {
    "name": "ipython",
    "version": 3
   },
   "file_extension": ".py",
   "mimetype": "text/x-python",
   "name": "python",
   "nbconvert_exporter": "python",
   "pygments_lexer": "ipython3",
   "version": "3.8.5"
  }
 },
 "nbformat": 4,
 "nbformat_minor": 4
}
