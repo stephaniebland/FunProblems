{
 "cells": [
  {
   "cell_type": "markdown",
   "metadata": {},
   "source": [
    "# 318. Maximum Product of Word Lengths\n",
    "Given a string array words, return the maximum value of length(word[i]) * length(word[j]) where the two words do not share common letters. If no such two words exist, return 0."
   ]
  },
  {
   "cell_type": "code",
   "execution_count": 1,
   "metadata": {},
   "outputs": [],
   "source": [
    "class Solution:\n",
    "    def maxProduct(self, words) -> int:\n",
    "        # Remove Duplicates\n",
    "        words = list(set(words))\n",
    "        max_prod = 0\n",
    "        for i in range(len(words)):\n",
    "            w1 = words.pop(0)\n",
    "            longest_w2_for_w1 = 0\n",
    "            for w2 in words:\n",
    "                if len(w2) <= longest_w2_for_w1:\n",
    "                    continue\n",
    "                if not set(w1).intersection(w2):\n",
    "                    max_prod = max(max_prod, len(w1)*len(w2))\n",
    "                    longest_w2_for_w1 = len(w2)\n",
    "        return max_prod"
   ]
  },
  {
   "cell_type": "code",
   "execution_count": 2,
   "metadata": {},
   "outputs": [
    {
     "data": {
      "text/plain": [
       "16"
      ]
     },
     "execution_count": 2,
     "metadata": {},
     "output_type": "execute_result"
    }
   ],
   "source": [
    "words = [\"abcw\",\"baz\",\"foo\",\"bar\",\"xtfn\",\"abcdef\"]\n",
    "Solution().maxProduct(words)"
   ]
  },
  {
   "cell_type": "code",
   "execution_count": null,
   "metadata": {},
   "outputs": [],
   "source": []
  }
 ],
 "metadata": {
  "kernelspec": {
   "display_name": "Python 3",
   "language": "python",
   "name": "python3"
  },
  "language_info": {
   "codemirror_mode": {
    "name": "ipython",
    "version": 3
   },
   "file_extension": ".py",
   "mimetype": "text/x-python",
   "name": "python",
   "nbconvert_exporter": "python",
   "pygments_lexer": "ipython3",
   "version": "3.8.5"
  }
 },
 "nbformat": 4,
 "nbformat_minor": 4
}
