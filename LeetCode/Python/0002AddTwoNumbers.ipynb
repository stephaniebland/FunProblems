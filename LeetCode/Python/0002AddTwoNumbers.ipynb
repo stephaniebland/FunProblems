{
 "cells": [
  {
   "cell_type": "markdown",
   "metadata": {},
   "source": [
    "# Add Two Numbers\n",
    "You are given two non-empty linked lists representing two non-negative integers. The digits are stored in reverse order, and each of their nodes contains a single digit. Add the two numbers and return the sum as a linked list.\n",
    "\n",
    "You may assume the two numbers do not contain any leading zero, except the number 0 itself."
   ]
  },
  {
   "cell_type": "code",
   "execution_count": 32,
   "metadata": {},
   "outputs": [],
   "source": [
    "# Definition for singly-linked list.\n",
    "class ListNode:\n",
    "    def __init__(self, x):\n",
    "        self.val = x\n",
    "        self.next = None"
   ]
  },
  {
   "cell_type": "markdown",
   "metadata": {},
   "source": [
    "### Explore Linked Lists"
   ]
  },
  {
   "cell_type": "code",
   "execution_count": 161,
   "metadata": {},
   "outputs": [],
   "source": [
    "# Convert a list into a linked list\n",
    "def lst2linkedlst(lst):\n",
    "    head = ListNode(lst[0])\n",
    "    curr = head\n",
    "    for i in lst[1:]:\n",
    "        curr.next = ListNode(i)\n",
    "        curr = curr.next\n",
    "    return head"
   ]
  },
  {
   "cell_type": "code",
   "execution_count": 162,
   "metadata": {},
   "outputs": [],
   "source": [
    "l1 = lst2linkedlst([5,4,3,6,7])"
   ]
  },
  {
   "cell_type": "code",
   "execution_count": 163,
   "metadata": {},
   "outputs": [],
   "source": [
    "# Print elements from a linked list\n",
    "def printlinkedlst(head):\n",
    "    curr = head\n",
    "    while curr is not None:\n",
    "        print(curr.val)\n",
    "        curr = curr.next\n",
    "    print(curr)"
   ]
  },
  {
   "cell_type": "code",
   "execution_count": 164,
   "metadata": {},
   "outputs": [
    {
     "name": "stdout",
     "output_type": "stream",
     "text": [
      "5\n",
      "4\n",
      "3\n",
      "6\n",
      "7\n",
      "None\n"
     ]
    }
   ],
   "source": [
    "printlinkedlst(l1)"
   ]
  },
  {
   "cell_type": "markdown",
   "metadata": {},
   "source": [
    "### Solution"
   ]
  },
  {
   "cell_type": "code",
   "execution_count": 14,
   "metadata": {},
   "outputs": [],
   "source": [
    "class Solution:\n",
    "    \n",
    "    def addTwoNumbers(self, l1: ListNode, l2: ListNode) -> ListNode:\n",
    "        quotient = 0\n",
    "        ans = []\n",
    "        sol = ListNode(None)\n",
    "        for i in range(max(len(l1),len(l2))):\n",
    "            try:\n",
    "                x = l1.pop(0)\n",
    "            except IndexError:\n",
    "                x = 0\n",
    "            try:\n",
    "                y = l2.pop(0)\n",
    "            except IndexError:\n",
    "                y = 0\n",
    "            z = x + y + quotient\n",
    "            remainder = z % 10\n",
    "            quotient = z // 10\n",
    "            ans.append(remainder)\n",
    "            if i == 0:\n",
    "                sol = ListNode(remainder)\n",
    "            else:\n",
    "                sol.next = remainder\n",
    "        if quotient != 0:\n",
    "            ans.append(quotient)\n",
    "            sol.next = remainder\n",
    "        print(sol)\n",
    "        return(ans)\n",
    "            "
   ]
  },
  {
   "cell_type": "code",
   "execution_count": 15,
   "metadata": {},
   "outputs": [
    {
     "name": "stdout",
     "output_type": "stream",
     "text": [
      "<__main__.ListNode object at 0x7fc2810ecbb0>\n"
     ]
    },
    {
     "data": {
      "text/plain": [
       "[8, 9, 9, 9, 0, 0, 0, 1]"
      ]
     },
     "execution_count": 15,
     "metadata": {},
     "output_type": "execute_result"
    }
   ],
   "source": [
    "Solution().addTwoNumbers(l1 = [9,9,9,9,9,9,9], l2 = [9,9,9,9])"
   ]
  },
  {
   "cell_type": "code",
   "execution_count": 35,
   "metadata": {},
   "outputs": [
    {
     "ename": "AttributeError",
     "evalue": "'list' object has no attribute 'val'",
     "output_type": "error",
     "traceback": [
      "\u001b[0;31m---------------------------------------------------------------------------\u001b[0m",
      "\u001b[0;31mAttributeError\u001b[0m                            Traceback (most recent call last)",
      "\u001b[0;32m<ipython-input-35-bfe9461a13d9>\u001b[0m in \u001b[0;36m<module>\u001b[0;34m\u001b[0m\n\u001b[1;32m      5\u001b[0m \u001b[0;32mwhile\u001b[0m\u001b[0;34m(\u001b[0m\u001b[0ml1\u001b[0m \u001b[0;34m!=\u001b[0m \u001b[0;32mNone\u001b[0m\u001b[0;34m)\u001b[0m\u001b[0;34m:\u001b[0m\u001b[0;34m\u001b[0m\u001b[0;34m\u001b[0m\u001b[0m\n\u001b[1;32m      6\u001b[0m     \u001b[0;31m# print(l1.val)\u001b[0m\u001b[0;34m\u001b[0m\u001b[0;34m\u001b[0m\u001b[0;34m\u001b[0m\u001b[0m\n\u001b[0;32m----> 7\u001b[0;31m     \u001b[0mcurr\u001b[0m\u001b[0;34m.\u001b[0m\u001b[0mval\u001b[0m \u001b[0;34m=\u001b[0m \u001b[0ml1\u001b[0m\u001b[0;34m.\u001b[0m\u001b[0mval\u001b[0m\u001b[0;34m\u001b[0m\u001b[0;34m\u001b[0m\u001b[0m\n\u001b[0m\u001b[1;32m      8\u001b[0m     \u001b[0mcurr\u001b[0m\u001b[0;34m.\u001b[0m\u001b[0mnext\u001b[0m \u001b[0;34m=\u001b[0m \u001b[0mListNode\u001b[0m\u001b[0;34m(\u001b[0m\u001b[0;34m)\u001b[0m\u001b[0;34m\u001b[0m\u001b[0;34m\u001b[0m\u001b[0m\n\u001b[1;32m      9\u001b[0m     \u001b[0;31m# print(curr.val)\u001b[0m\u001b[0;34m\u001b[0m\u001b[0;34m\u001b[0m\u001b[0;34m\u001b[0m\u001b[0m\n",
      "\u001b[0;31mAttributeError\u001b[0m: 'list' object has no attribute 'val'"
     ]
    }
   ],
   "source": [
    "l1 = [9,9,9,9,9,9,9]\n",
    "result = ListNode(4)\n",
    "curr = result\n",
    "\n",
    "\n",
    "while(l1 != None):\n",
    "    # print(l1.val)\n",
    "    curr.val = l1.val\n",
    "    curr.next = ListNode()\n",
    "    # print(curr.val)\n",
    "    curr = curr.next\n",
    "    l1 = l1.next\n",
    "\n",
    "curr = result\n",
    "while(curr != None):\n",
    "    print(curr.val)\n",
    "    curr = curr.next"
   ]
  },
  {
   "cell_type": "code",
   "execution_count": null,
   "metadata": {},
   "outputs": [],
   "source": [
    "# Definition for singly-linked list.\n",
    "# class ListNode:\n",
    "#     def __init__(self, val=0, next=None):\n",
    "#         self.val = val\n",
    "#         self.next = next\n",
    "class Solution:\n",
    "    \n",
    "    def addTwoNumbers(self, l1: ListNode, l2: ListNode) -> ListNode:\n",
    "        quotient = 0\n",
    "        result = ListNode()\n",
    "        curr = result\n",
    "        while l1 != None or l2 != None:\n",
    "            if l1 != None:\n",
    "                x = l1.val\n",
    "                l1 = l1.next\n",
    "            else:\n",
    "                x = 0\n",
    "            if l2 != None:\n",
    "                y = l2.val\n",
    "                l2 = l2.next\n",
    "            else:\n",
    "                y = 0\n",
    "            z = x + y + quotient\n",
    "            remainder = z % 10\n",
    "            quotient = z // 10\n",
    "            curr.val = remainder\n",
    "            print(l1)\n",
    "            print(l2)\n",
    "            if(l1 != None or l2 != None):\n",
    "                print (\"hi\")\n",
    "                curr.next = ListNode()\n",
    "                curr = curr.next\n",
    "        if quotient != 0:\n",
    "            curr.val = quotient\n",
    "        #curr.next = None\n",
    "        \n",
    "        curr = result\n",
    "        while(curr != None):\n",
    "            print(curr.val)\n",
    "            curr = curr.next\n",
    "        return(result)\n",
    "            "
   ]
  }
 ],
 "metadata": {
  "kernelspec": {
   "display_name": "Python 3",
   "language": "python",
   "name": "python3"
  },
  "language_info": {
   "codemirror_mode": {
    "name": "ipython",
    "version": 3
   },
   "file_extension": ".py",
   "mimetype": "text/x-python",
   "name": "python",
   "nbconvert_exporter": "python",
   "pygments_lexer": "ipython3",
   "version": "3.8.5"
  }
 },
 "nbformat": 4,
 "nbformat_minor": 4
}
