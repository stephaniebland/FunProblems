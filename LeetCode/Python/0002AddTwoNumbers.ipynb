{
 "cells": [
  {
   "cell_type": "markdown",
   "metadata": {},
   "source": [
    "# 2. Add Two Numbers\n",
    "You are given two non-empty linked lists representing two non-negative integers. The digits are stored in reverse order, and each of their nodes contains a single digit. Add the two numbers and return the sum as a linked list.\n",
    "\n",
    "You may assume the two numbers do not contain any leading zero, except the number 0 itself."
   ]
  },
  {
   "cell_type": "code",
   "execution_count": null,
   "metadata": {},
   "outputs": [],
   "source": [
    "# Definition for singly-linked list.\n",
    "class ListNode:\n",
    "    def __init__(self, x):\n",
    "        self.val = x\n",
    "        self.next = None"
   ]
  },
  {
   "cell_type": "markdown",
   "metadata": {},
   "source": [
    "### Explore Linked Lists"
   ]
  },
  {
   "cell_type": "code",
   "execution_count": 2,
   "metadata": {},
   "outputs": [],
   "source": [
    "# Convert a list into a linked list\n",
    "def lst2linkedlst(lst):\n",
    "    head = ListNode(None)\n",
    "    curr = head\n",
    "    for i in lst:\n",
    "        curr.next = ListNode(i)\n",
    "        curr = curr.next\n",
    "    return head.next"
   ]
  },
  {
   "cell_type": "code",
   "execution_count": 3,
   "metadata": {},
   "outputs": [],
   "source": [
    "l1 = lst2linkedlst([5,4,3,6,7])"
   ]
  },
  {
   "cell_type": "code",
   "execution_count": 4,
   "metadata": {},
   "outputs": [],
   "source": [
    "# Print elements from a linked list\n",
    "def printlinkedlst(head):\n",
    "    curr = head\n",
    "    while curr is not None:\n",
    "        print(curr.val)\n",
    "        curr = curr.next\n",
    "    print(curr)"
   ]
  },
  {
   "cell_type": "code",
   "execution_count": 5,
   "metadata": {},
   "outputs": [
    {
     "name": "stdout",
     "output_type": "stream",
     "text": [
      "5\n",
      "4\n",
      "3\n",
      "6\n",
      "7\n",
      "None\n"
     ]
    }
   ],
   "source": [
    "printlinkedlst(l1)"
   ]
  },
  {
   "cell_type": "markdown",
   "metadata": {},
   "source": [
    "### My Solution"
   ]
  },
  {
   "cell_type": "code",
   "execution_count": 6,
   "metadata": {},
   "outputs": [],
   "source": [
    "class Solution:\n",
    "    def addTwoNumbers(self, l1: ListNode, l2: ListNode) -> ListNode:\n",
    "        quotient = 0\n",
    "        sol = ListNode(None)\n",
    "        curr = sol\n",
    "        while l1 or l2 or quotient:\n",
    "            if l1 != None:\n",
    "                x = l1.val\n",
    "                l1 = l1.next\n",
    "            else:\n",
    "                x = 0\n",
    "            if l2 != None:\n",
    "                y = l2.val\n",
    "                l2 = l2.next\n",
    "            else:\n",
    "                y = 0\n",
    "            z = x + y + quotient\n",
    "            remainder = z % 10\n",
    "            quotient = z // 10\n",
    "            curr.next = ListNode(remainder)\n",
    "            curr = curr.next\n",
    "        return(sol.next)"
   ]
  },
  {
   "cell_type": "markdown",
   "metadata": {},
   "source": [
    "### Test Case"
   ]
  },
  {
   "cell_type": "code",
   "execution_count": 7,
   "metadata": {},
   "outputs": [
    {
     "name": "stdout",
     "output_type": "stream",
     "text": [
      "8\n",
      "9\n",
      "9\n",
      "9\n",
      "0\n",
      "0\n",
      "0\n",
      "1\n",
      "None\n"
     ]
    }
   ],
   "source": [
    "l1 = lst2linkedlst([9,9,9,9,9,9,9])\n",
    "l2 = lst2linkedlst([9,9,9,9])\n",
    "\n",
    "sol = Solution().addTwoNumbers(l1, l2)\n",
    "\n",
    "printlinkedlst(sol)"
   ]
  },
  {
   "cell_type": "markdown",
   "metadata": {},
   "source": [
    "### Elegant Recursive Solution I found on Leetcode\n",
    "By Michael Lin (MikeZLin) https://leetcode.com/MikeZLin/\n",
    "Copied and pasted here for future reference of how beautiful it could be."
   ]
  },
  {
   "cell_type": "code",
   "execution_count": 8,
   "metadata": {},
   "outputs": [],
   "source": [
    "# Full credit goes to Michael Lin (MikeZLin) https://leetcode.com/MikeZLin/\n",
    "\n",
    "class MikeZLinSolution:\n",
    "    def addTwoNumbers(self, l1, l2 ,c = 0):\n",
    "        val = l1.val + l2.val + c\n",
    "        c = val // 10\n",
    "        ret = ListNode(val % 10 ) \n",
    "        \n",
    "        if (l1.next != None or l2.next != None or c != 0):\n",
    "            if l1.next == None:\n",
    "                l1.next = ListNode(0)\n",
    "            if l2.next == None:\n",
    "                l2.next = ListNode(0)\n",
    "            ret.next = self.addTwoNumbers(l1.next,l2.next,c)\n",
    "        return ret"
   ]
  },
  {
   "cell_type": "code",
   "execution_count": 9,
   "metadata": {},
   "outputs": [
    {
     "name": "stdout",
     "output_type": "stream",
     "text": [
      "8\n",
      "9\n",
      "9\n",
      "9\n",
      "0\n",
      "0\n",
      "0\n",
      "1\n",
      "None\n"
     ]
    }
   ],
   "source": [
    "l1 = lst2linkedlst([9,9,9,9,9,9,9])\n",
    "l2 = lst2linkedlst([9,9,9,9])\n",
    "\n",
    "sol = MikeZLinSolution().addTwoNumbers(l1, l2)\n",
    "\n",
    "printlinkedlst(sol)"
   ]
  },
  {
   "cell_type": "code",
   "execution_count": null,
   "metadata": {},
   "outputs": [],
   "source": []
  }
 ],
 "metadata": {
  "kernelspec": {
   "display_name": "Python 3",
   "language": "python",
   "name": "python3"
  },
  "language_info": {
   "codemirror_mode": {
    "name": "ipython",
    "version": 3
   },
   "file_extension": ".py",
   "mimetype": "text/x-python",
   "name": "python",
   "nbconvert_exporter": "python",
   "pygments_lexer": "ipython3",
   "version": "3.8.5"
  }
 },
 "nbformat": 4,
 "nbformat_minor": 4
}
