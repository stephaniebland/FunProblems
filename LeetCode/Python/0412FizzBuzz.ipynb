{
 "cells": [
  {
   "cell_type": "markdown",
   "metadata": {},
   "source": [
    "# 412. Fizz Buzz\n",
    "Given an integer n, return a string array answer (1-indexed) where:\n",
    "\n",
    "    answer[i] == \"FizzBuzz\" if i is divisible by 3 and 5.\n",
    "    answer[i] == \"Fizz\" if i is divisible by 3.\n",
    "    answer[i] == \"Buzz\" if i is divisible by 5.\n",
    "    answer[i] == i if non of the above conditions are true."
   ]
  },
  {
   "cell_type": "code",
   "execution_count": 1,
   "metadata": {},
   "outputs": [],
   "source": [
    "class Solution:\n",
    "    def fizzBuzz(self, n: int):\n",
    "        result = []\n",
    "        for i in range(1,n+1):\n",
    "            if i % 15 == 0:\n",
    "                result.append(\"FizzBuzz\")\n",
    "            elif i % 3 == 0:\n",
    "                result.append(\"Fizz\")\n",
    "            elif i % 5 == 0:\n",
    "                result.append(\"Buzz\")\n",
    "            else:\n",
    "                result.append(str(i))\n",
    "        return result"
   ]
  },
  {
   "cell_type": "code",
   "execution_count": 2,
   "metadata": {},
   "outputs": [
    {
     "data": {
      "text/plain": [
       "['1',\n",
       " '2',\n",
       " 'Fizz',\n",
       " '4',\n",
       " 'Buzz',\n",
       " 'Fizz',\n",
       " '7',\n",
       " '8',\n",
       " 'Fizz',\n",
       " 'Buzz',\n",
       " '11',\n",
       " 'Fizz',\n",
       " '13',\n",
       " '14',\n",
       " 'FizzBuzz',\n",
       " '16',\n",
       " '17',\n",
       " 'Fizz',\n",
       " '19',\n",
       " 'Buzz']"
      ]
     },
     "execution_count": 2,
     "metadata": {},
     "output_type": "execute_result"
    }
   ],
   "source": [
    "Solution().fizzBuzz(20)"
   ]
  },
  {
   "cell_type": "markdown",
   "metadata": {},
   "source": [
    "### Generalized Solution\n",
    "Try using a dictionary to define what to print for each type of number"
   ]
  },
  {
   "cell_type": "code",
   "execution_count": 3,
   "metadata": {},
   "outputs": [],
   "source": [
    "class Solution:\n",
    "    def fizzBuzz(self, n: int, words_to_print = {3:\"Fizz\",5:\"Buzz\"}):\n",
    "        result = []\n",
    "        for i in range(1,n+1):\n",
    "            word = \"\"\n",
    "            for key,val in words_to_print.items():\n",
    "                if i % key == 0:\n",
    "                    word = word + val\n",
    "            if not word:\n",
    "                word = str(i)\n",
    "            result.append(word)\n",
    "        return result"
   ]
  },
  {
   "cell_type": "code",
   "execution_count": 4,
   "metadata": {},
   "outputs": [
    {
     "data": {
      "text/plain": [
       "['1',\n",
       " 'Buzz',\n",
       " '3',\n",
       " 'Buzz',\n",
       " '5',\n",
       " 'Buzz',\n",
       " 'Fizz',\n",
       " 'Buzz',\n",
       " '9',\n",
       " 'Buzz',\n",
       " '11',\n",
       " 'Buzz',\n",
       " '13',\n",
       " 'FizzBuzz',\n",
       " '15',\n",
       " 'Buzz',\n",
       " '17',\n",
       " 'Buzz',\n",
       " '19',\n",
       " 'Buzz',\n",
       " 'Fizz',\n",
       " 'Buzz',\n",
       " '23',\n",
       " 'Buzz',\n",
       " '25',\n",
       " 'Buzz',\n",
       " '27',\n",
       " 'FizzBuzz',\n",
       " '29',\n",
       " 'Buzz',\n",
       " '31',\n",
       " 'Buzz',\n",
       " '33',\n",
       " 'Buzz',\n",
       " 'Fizz',\n",
       " 'Buzz',\n",
       " '37',\n",
       " 'Buzz',\n",
       " '39',\n",
       " 'Buzz',\n",
       " '41',\n",
       " 'FizzBuzz',\n",
       " '43',\n",
       " 'Buzz',\n",
       " '45',\n",
       " 'Buzz',\n",
       " '47',\n",
       " 'Buzz',\n",
       " 'Fizz',\n",
       " 'Buzz']"
      ]
     },
     "execution_count": 4,
     "metadata": {},
     "output_type": "execute_result"
    }
   ],
   "source": [
    "Solution().fizzBuzz(50,{7:\"Fizz\",2:\"Buzz\"})"
   ]
  },
  {
   "cell_type": "code",
   "execution_count": null,
   "metadata": {},
   "outputs": [],
   "source": []
  }
 ],
 "metadata": {
  "kernelspec": {
   "display_name": "Python 3",
   "language": "python",
   "name": "python3"
  },
  "language_info": {
   "codemirror_mode": {
    "name": "ipython",
    "version": 3
   },
   "file_extension": ".py",
   "mimetype": "text/x-python",
   "name": "python",
   "nbconvert_exporter": "python",
   "pygments_lexer": "ipython3",
   "version": "3.8.5"
  }
 },
 "nbformat": 4,
 "nbformat_minor": 4
}
