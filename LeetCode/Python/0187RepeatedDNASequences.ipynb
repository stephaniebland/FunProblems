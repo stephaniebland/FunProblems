{
 "cells": [
  {
   "cell_type": "markdown",
   "metadata": {},
   "source": [
    "# 187. Repeated DNA Sequences\n",
    "The DNA sequence is composed of a series of nucleotides abbreviated as 'A', 'C', 'G', and 'T'.\n",
    "\n",
    "    For example, \"ACGAATTCCG\" is a DNA sequence.\n",
    "\n",
    "When studying DNA, it is useful to identify repeated sequences within the DNA.\n",
    "\n",
    "Given a string s that represents a DNA sequence, return all the 10-letter-long sequences (substrings) that occur more than once in a DNA molecule. You may return the answer in any order."
   ]
  },
  {
   "cell_type": "code",
   "execution_count": 1,
   "metadata": {},
   "outputs": [],
   "source": [
    "class Solution:\n",
    "    def findRepeatedDnaSequences(self, s: str):\n",
    "        seq_len = len(s)\n",
    "        rep_len = 10\n",
    "        seq_count = {}\n",
    "        for i in range (0,seq_len - rep_len + 1):\n",
    "            substring = s[i:i+rep_len]\n",
    "            if substring in seq_count:\n",
    "                seq_count[substring] += 1\n",
    "            else: \n",
    "                seq_count[substring] = 1\n",
    "        repeated_substrings = []\n",
    "        for substring,occurrences in seq_count.items():\n",
    "            if occurrences > 1:\n",
    "                repeated_substrings.append(substring)\n",
    "        return repeated_substrings"
   ]
  },
  {
   "cell_type": "code",
   "execution_count": 2,
   "metadata": {},
   "outputs": [
    {
     "data": {
      "text/plain": [
       "['AAAAACCCCC', 'CCCCCAAAAA']"
      ]
     },
     "execution_count": 2,
     "metadata": {},
     "output_type": "execute_result"
    }
   ],
   "source": [
    "Solution().findRepeatedDnaSequences(\"AAAAACCCCCAAAAACCCCCCAAAAAGGGTTT\")"
   ]
  },
  {
   "cell_type": "code",
   "execution_count": null,
   "metadata": {},
   "outputs": [],
   "source": []
  }
 ],
 "metadata": {
  "kernelspec": {
   "display_name": "Python 3",
   "language": "python",
   "name": "python3"
  },
  "language_info": {
   "codemirror_mode": {
    "name": "ipython",
    "version": 3
   },
   "file_extension": ".py",
   "mimetype": "text/x-python",
   "name": "python",
   "nbconvert_exporter": "python",
   "pygments_lexer": "ipython3",
   "version": "3.8.5"
  }
 },
 "nbformat": 4,
 "nbformat_minor": 4
}
